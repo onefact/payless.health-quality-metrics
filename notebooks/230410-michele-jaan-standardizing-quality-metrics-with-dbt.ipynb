{
 "cells": [
  {
   "attachments": {},
   "cell_type": "markdown",
   "metadata": {},
   "source": [
    "## Plan\n",
    "- [ ] follow https://duckdb.org/docs/guides/python/jupyter.html\n",
    "- [ ] follow https://github.com/onefact/datathinking.org-codespace/blob/main/notebooks/in-class-notebooks/230406-data-build-tool-for-new-york-city-311-phone-call-data.ipynb\n",
    "- [ ] load csv file in duckdb"
   ]
  },
  {
   "cell_type": "code",
   "execution_count": 1,
   "metadata": {},
   "outputs": [],
   "source": [
    "import duckdb\n",
    "import pandas as pd\n",
    "# No need to import duckdb_engne\n",
    "#  jupysql will auto-detect thei driver needed based on the connection string!\n",
    "\n",
    "# Import jupysql Jupyter extension to create SQL cells\n",
    "%load_ext sql\n"
   ]
  },
  {
   "cell_type": "code",
   "execution_count": 2,
   "metadata": {},
   "outputs": [],
   "source": [
    "%config SqlMagic.autopandas = True\n",
    "%config SqlMagic.feedback = False\n",
    "%config SqlMagic.displaycon = False\n"
   ]
  },
  {
   "cell_type": "code",
   "execution_count": 17,
   "metadata": {},
   "outputs": [],
   "source": [
    "%sql duckdb:///:memory:"
   ]
  },
  {
   "cell_type": "code",
   "execution_count": 22,
   "metadata": {},
   "outputs": [
    {
     "name": "stdout",
     "output_type": "stream",
     "text": [
      "--2023-04-13 10:02:25--  https://data.payless.health/dataset/7fb3f3e3-a69d-40b9-ba7e-8afae790bbb7/resource/efc23d43-8ca8-4e91-9942-74dd4d85624c/download/nysdoh_brfss_surveydata_2021.csv\n",
      "Resolving data.payless.health (data.payless.health)... 2600:9000:2073:a800:1f:282d:1900:93a1, 2600:9000:2073:0:1f:282d:1900:93a1, 2600:9000:2073:6800:1f:282d:1900:93a1, ...\n",
      "Connecting to data.payless.health (data.payless.health)|2600:9000:2073:a800:1f:282d:1900:93a1|:443... connected.\n",
      "HTTP request sent, awaiting response... 404 Not Found\n",
      "2023-04-13 10:02:25 ERROR 404: Not Found.\n",
      "\n"
     ]
    }
   ],
   "source": [
    "!/opt/homebrew/bin/wget https://data.payless.health/dataset/7fb3f3e3-a69d-40b9-ba7e-8afae790bbb7/resource/efc23d43-8ca8-4e91-9942-74dd4d85624c/download/nysdoh_brfss_surveydata_2021.csv -O /tmp/NYSDOH_BRFSS_SurveyData_2021.csv"
   ]
  },
  {
   "cell_type": "code",
   "execution_count": 28,
   "metadata": {},
   "outputs": [
    {
     "name": "stderr",
     "output_type": "stream",
     "text": [
      "/var/folders/1_/lmhbpfjd78x39hf7h6ttny5r0000gn/T/ipykernel_47055/560215762.py:2: DtypeWarning: Columns (47,148,279,284,285,298,299,300,329,330,331,332,333,334,335,336,337,350,362) have mixed types. Specify dtype option on import or set low_memory=False.\n",
      "  df = pd.read_csv('/Users/micheletadiello/Downloads/NYSDOH_BRFSS_2021/NYSDOH_BRFSS_SurveyData_2021.csv', encoding='iso-8859-1')\n",
      "/var/folders/1_/lmhbpfjd78x39hf7h6ttny5r0000gn/T/ipykernel_47055/560215762.py:8: UserWarning: pandas only supports SQLAlchemy connectable (engine/connection) or database string URI or sqlite3 DBAPI2 connection. Other DBAPI2 objects are not tested. Please consider using SQLAlchemy.\n",
      "  df.to_sql('my_table_sdoh', con, if_exists='replace', index=False)\n"
     ]
    },
    {
     "ename": "TransactionException",
     "evalue": "TransactionContext Error: cannot rollback - no transaction is active",
     "output_type": "error",
     "traceback": [
      "\u001b[0;31m---------------------------------------------------------------------------\u001b[0m",
      "\u001b[0;31mAttributeError\u001b[0m                            Traceback (most recent call last)",
      "File \u001b[0;32m/opt/anaconda3/envs/datathinking.org/lib/python3.11/site-packages/pandas/io/sql.py:2186\u001b[0m, in \u001b[0;36mSQLiteDatabase.run_transaction\u001b[0;34m(self)\u001b[0m\n\u001b[1;32m   2185\u001b[0m \u001b[39mtry\u001b[39;00m:\n\u001b[0;32m-> 2186\u001b[0m     \u001b[39myield\u001b[39;00m cur\n\u001b[1;32m   2187\u001b[0m     \u001b[39mself\u001b[39m\u001b[39m.\u001b[39mcon\u001b[39m.\u001b[39mcommit()\n",
      "File \u001b[0;32m/opt/anaconda3/envs/datathinking.org/lib/python3.11/site-packages/pandas/io/sql.py:1021\u001b[0m, in \u001b[0;36mSQLTable.insert\u001b[0;34m(self, chunksize, method)\u001b[0m\n\u001b[1;32m   1020\u001b[0m chunk_iter \u001b[39m=\u001b[39m \u001b[39mzip\u001b[39m(\u001b[39m*\u001b[39m(arr[start_i:end_i] \u001b[39mfor\u001b[39;00m arr \u001b[39min\u001b[39;00m data_list))\n\u001b[0;32m-> 1021\u001b[0m num_inserted \u001b[39m=\u001b[39m exec_insert(conn, keys, chunk_iter)\n\u001b[1;32m   1022\u001b[0m \u001b[39m# GH 46891\u001b[39;00m\n",
      "File \u001b[0;32m/opt/anaconda3/envs/datathinking.org/lib/python3.11/site-packages/pandas/io/sql.py:2074\u001b[0m, in \u001b[0;36mSQLiteTable._execute_insert\u001b[0;34m(self, conn, keys, data_iter)\u001b[0m\n\u001b[1;32m   2073\u001b[0m conn\u001b[39m.\u001b[39mexecutemany(\u001b[39mself\u001b[39m\u001b[39m.\u001b[39minsert_statement(num_rows\u001b[39m=\u001b[39m\u001b[39m1\u001b[39m), data_list)\n\u001b[0;32m-> 2074\u001b[0m \u001b[39mreturn\u001b[39;00m conn\u001b[39m.\u001b[39;49mrowcount\n",
      "\u001b[0;31mAttributeError\u001b[0m: 'duckdb.DuckDBPyConnection' object has no attribute 'rowcount'",
      "\nDuring handling of the above exception, another exception occurred:\n",
      "\u001b[0;31mTransactionException\u001b[0m                      Traceback (most recent call last)",
      "Cell \u001b[0;32mIn[28], line 8\u001b[0m\n\u001b[1;32m      5\u001b[0m con \u001b[39m=\u001b[39m duckdb\u001b[39m.\u001b[39mconnect(\u001b[39m'\u001b[39m\u001b[39m:memory:\u001b[39m\u001b[39m'\u001b[39m)\n\u001b[1;32m      7\u001b[0m \u001b[39m# Use the to_sql() method to create a new table in the duckdb database\u001b[39;00m\n\u001b[0;32m----> 8\u001b[0m df\u001b[39m.\u001b[39;49mto_sql(\u001b[39m'\u001b[39;49m\u001b[39mmy_table_sdoh\u001b[39;49m\u001b[39m'\u001b[39;49m, con, if_exists\u001b[39m=\u001b[39;49m\u001b[39m'\u001b[39;49m\u001b[39mreplace\u001b[39;49m\u001b[39m'\u001b[39;49m, index\u001b[39m=\u001b[39;49m\u001b[39mFalse\u001b[39;49;00m)\n\u001b[1;32m     10\u001b[0m \u001b[39m# Execute a SQL query against the duckdb database\u001b[39;00m\n\u001b[1;32m     11\u001b[0m results \u001b[39m=\u001b[39m con\u001b[39m.\u001b[39mexecute(\u001b[39m'\u001b[39m\u001b[39mSELECT * FROM my_table_sdoh\u001b[39m\u001b[39m'\u001b[39m)\u001b[39m.\u001b[39mfetchdf()\n",
      "File \u001b[0;32m/opt/anaconda3/envs/datathinking.org/lib/python3.11/site-packages/pandas/core/generic.py:2878\u001b[0m, in \u001b[0;36mNDFrame.to_sql\u001b[0;34m(self, name, con, schema, if_exists, index, index_label, chunksize, dtype, method)\u001b[0m\n\u001b[1;32m   2713\u001b[0m \u001b[39m\u001b[39m\u001b[39m\"\"\"\u001b[39;00m\n\u001b[1;32m   2714\u001b[0m \u001b[39mWrite records stored in a DataFrame to a SQL database.\u001b[39;00m\n\u001b[1;32m   2715\u001b[0m \n\u001b[0;32m   (...)\u001b[0m\n\u001b[1;32m   2874\u001b[0m \u001b[39m[(1,), (None,), (2,)]\u001b[39;00m\n\u001b[1;32m   2875\u001b[0m \u001b[39m\"\"\"\u001b[39;00m  \u001b[39m# noqa:E501\u001b[39;00m\n\u001b[1;32m   2876\u001b[0m \u001b[39mfrom\u001b[39;00m \u001b[39mpandas\u001b[39;00m\u001b[39m.\u001b[39;00m\u001b[39mio\u001b[39;00m \u001b[39mimport\u001b[39;00m sql\n\u001b[0;32m-> 2878\u001b[0m \u001b[39mreturn\u001b[39;00m sql\u001b[39m.\u001b[39;49mto_sql(\n\u001b[1;32m   2879\u001b[0m     \u001b[39mself\u001b[39;49m,\n\u001b[1;32m   2880\u001b[0m     name,\n\u001b[1;32m   2881\u001b[0m     con,\n\u001b[1;32m   2882\u001b[0m     schema\u001b[39m=\u001b[39;49mschema,\n\u001b[1;32m   2883\u001b[0m     if_exists\u001b[39m=\u001b[39;49mif_exists,\n\u001b[1;32m   2884\u001b[0m     index\u001b[39m=\u001b[39;49mindex,\n\u001b[1;32m   2885\u001b[0m     index_label\u001b[39m=\u001b[39;49mindex_label,\n\u001b[1;32m   2886\u001b[0m     chunksize\u001b[39m=\u001b[39;49mchunksize,\n\u001b[1;32m   2887\u001b[0m     dtype\u001b[39m=\u001b[39;49mdtype,\n\u001b[1;32m   2888\u001b[0m     method\u001b[39m=\u001b[39;49mmethod,\n\u001b[1;32m   2889\u001b[0m )\n",
      "File \u001b[0;32m/opt/anaconda3/envs/datathinking.org/lib/python3.11/site-packages/pandas/io/sql.py:767\u001b[0m, in \u001b[0;36mto_sql\u001b[0;34m(frame, name, con, schema, if_exists, index, index_label, chunksize, dtype, method, engine, **engine_kwargs)\u001b[0m\n\u001b[1;32m    762\u001b[0m     \u001b[39mraise\u001b[39;00m \u001b[39mNotImplementedError\u001b[39;00m(\n\u001b[1;32m    763\u001b[0m         \u001b[39m\"\u001b[39m\u001b[39m'\u001b[39m\u001b[39mframe\u001b[39m\u001b[39m'\u001b[39m\u001b[39m argument should be either a Series or a DataFrame\u001b[39m\u001b[39m\"\u001b[39m\n\u001b[1;32m    764\u001b[0m     )\n\u001b[1;32m    766\u001b[0m \u001b[39mwith\u001b[39;00m pandasSQL_builder(con, schema\u001b[39m=\u001b[39mschema, need_transaction\u001b[39m=\u001b[39m\u001b[39mTrue\u001b[39;00m) \u001b[39mas\u001b[39;00m pandas_sql:\n\u001b[0;32m--> 767\u001b[0m     \u001b[39mreturn\u001b[39;00m pandas_sql\u001b[39m.\u001b[39;49mto_sql(\n\u001b[1;32m    768\u001b[0m         frame,\n\u001b[1;32m    769\u001b[0m         name,\n\u001b[1;32m    770\u001b[0m         if_exists\u001b[39m=\u001b[39;49mif_exists,\n\u001b[1;32m    771\u001b[0m         index\u001b[39m=\u001b[39;49mindex,\n\u001b[1;32m    772\u001b[0m         index_label\u001b[39m=\u001b[39;49mindex_label,\n\u001b[1;32m    773\u001b[0m         schema\u001b[39m=\u001b[39;49mschema,\n\u001b[1;32m    774\u001b[0m         chunksize\u001b[39m=\u001b[39;49mchunksize,\n\u001b[1;32m    775\u001b[0m         dtype\u001b[39m=\u001b[39;49mdtype,\n\u001b[1;32m    776\u001b[0m         method\u001b[39m=\u001b[39;49mmethod,\n\u001b[1;32m    777\u001b[0m         engine\u001b[39m=\u001b[39;49mengine,\n\u001b[1;32m    778\u001b[0m         \u001b[39m*\u001b[39;49m\u001b[39m*\u001b[39;49mengine_kwargs,\n\u001b[1;32m    779\u001b[0m     )\n",
      "File \u001b[0;32m/opt/anaconda3/envs/datathinking.org/lib/python3.11/site-packages/pandas/io/sql.py:2377\u001b[0m, in \u001b[0;36mSQLiteDatabase.to_sql\u001b[0;34m(self, frame, name, if_exists, index, index_label, schema, chunksize, dtype, method, engine, **engine_kwargs)\u001b[0m\n\u001b[1;32m   2367\u001b[0m table \u001b[39m=\u001b[39m SQLiteTable(\n\u001b[1;32m   2368\u001b[0m     name,\n\u001b[1;32m   2369\u001b[0m     \u001b[39mself\u001b[39m,\n\u001b[0;32m   (...)\u001b[0m\n\u001b[1;32m   2374\u001b[0m     dtype\u001b[39m=\u001b[39mdtype,\n\u001b[1;32m   2375\u001b[0m )\n\u001b[1;32m   2376\u001b[0m table\u001b[39m.\u001b[39mcreate()\n\u001b[0;32m-> 2377\u001b[0m \u001b[39mreturn\u001b[39;00m table\u001b[39m.\u001b[39;49minsert(chunksize, method)\n",
      "File \u001b[0;32m/opt/anaconda3/envs/datathinking.org/lib/python3.11/site-packages/pandas/io/sql.py:1013\u001b[0m, in \u001b[0;36mSQLTable.insert\u001b[0;34m(self, chunksize, method)\u001b[0m\n\u001b[1;32m   1011\u001b[0m chunks \u001b[39m=\u001b[39m (nrows \u001b[39m/\u001b[39m\u001b[39m/\u001b[39m chunksize) \u001b[39m+\u001b[39m \u001b[39m1\u001b[39m\n\u001b[1;32m   1012\u001b[0m total_inserted \u001b[39m=\u001b[39m \u001b[39mNone\u001b[39;00m\n\u001b[0;32m-> 1013\u001b[0m \u001b[39mwith\u001b[39;49;00m \u001b[39mself\u001b[39;49m\u001b[39m.\u001b[39;49mpd_sql\u001b[39m.\u001b[39;49mrun_transaction() \u001b[39mas\u001b[39;49;00m conn:\n\u001b[1;32m   1014\u001b[0m     \u001b[39mfor\u001b[39;49;00m i \u001b[39min\u001b[39;49;00m \u001b[39mrange\u001b[39;49m(chunks):\n\u001b[1;32m   1015\u001b[0m         start_i \u001b[39m=\u001b[39;49m i \u001b[39m*\u001b[39;49m chunksize\n",
      "File \u001b[0;32m/opt/anaconda3/envs/datathinking.org/lib/python3.11/contextlib.py:155\u001b[0m, in \u001b[0;36m_GeneratorContextManager.__exit__\u001b[0;34m(self, typ, value, traceback)\u001b[0m\n\u001b[1;32m    153\u001b[0m     value \u001b[39m=\u001b[39m typ()\n\u001b[1;32m    154\u001b[0m \u001b[39mtry\u001b[39;00m:\n\u001b[0;32m--> 155\u001b[0m     \u001b[39mself\u001b[39m\u001b[39m.\u001b[39mgen\u001b[39m.\u001b[39mthrow(typ, value, traceback)\n\u001b[1;32m    156\u001b[0m \u001b[39mexcept\u001b[39;00m \u001b[39mStopIteration\u001b[39;00m \u001b[39mas\u001b[39;00m exc:\n\u001b[1;32m    157\u001b[0m     \u001b[39m# Suppress StopIteration *unless* it's the same exception that\u001b[39;00m\n\u001b[1;32m    158\u001b[0m     \u001b[39m# was passed to throw().  This prevents a StopIteration\u001b[39;00m\n\u001b[1;32m    159\u001b[0m     \u001b[39m# raised inside the \"with\" statement from being suppressed.\u001b[39;00m\n\u001b[1;32m    160\u001b[0m     \u001b[39mreturn\u001b[39;00m exc \u001b[39mis\u001b[39;00m \u001b[39mnot\u001b[39;00m value\n",
      "File \u001b[0;32m/opt/anaconda3/envs/datathinking.org/lib/python3.11/site-packages/pandas/io/sql.py:2189\u001b[0m, in \u001b[0;36mSQLiteDatabase.run_transaction\u001b[0;34m(self)\u001b[0m\n\u001b[1;32m   2187\u001b[0m     \u001b[39mself\u001b[39m\u001b[39m.\u001b[39mcon\u001b[39m.\u001b[39mcommit()\n\u001b[1;32m   2188\u001b[0m \u001b[39mexcept\u001b[39;00m \u001b[39mException\u001b[39;00m:\n\u001b[0;32m-> 2189\u001b[0m     \u001b[39mself\u001b[39;49m\u001b[39m.\u001b[39;49mcon\u001b[39m.\u001b[39;49mrollback()\n\u001b[1;32m   2190\u001b[0m     \u001b[39mraise\u001b[39;00m\n\u001b[1;32m   2191\u001b[0m \u001b[39mfinally\u001b[39;00m:\n",
      "\u001b[0;31mTransactionException\u001b[0m: TransactionContext Error: cannot rollback - no transaction is active"
     ]
    }
   ],
   "source": [
    "# Load CSV file into a pandas DataFrame\n",
    "df = pd.read_csv('/Users/micheletadiello/Downloads/NYSDOH_BRFSS_2021/NYSDOH_BRFSS_SurveyData_2021.csv', encoding='iso-8859-1')\n",
    "\n",
    "# Create a duckdb database in memory\n",
    "con = duckdb.connect(':memory:')\n",
    "\n",
    "# Use the to_sql() method to create a new table in the duckdb database\n",
    "df.to_sql('my_table_sdoh', con, if_exists='replace', index=False)\n",
    "\n",
    "# Execute a SQL query against the duckdb database\n",
    "results = con.execute('SELECT * FROM my_table_sdoh').fetchdf()\n",
    "\n",
    "# Print the results\n",
    "print(results)"
   ]
  },
  {
   "cell_type": "code",
   "execution_count": 42,
   "metadata": {},
   "outputs": [
    {
     "data": {
      "text/plain": [
       "-1"
      ]
     },
     "execution_count": 42,
     "metadata": {},
     "output_type": "execute_result"
    }
   ],
   "source": [
    "import duckdb\n",
    "import pandas as pd\n",
    "from sqlalchemy import create_engine\n",
    "\n",
    "# Read the CSV file with dtype=str\n",
    "df = pd.read_csv('/Users/micheletadiello/Downloads/NYSDOH_BRFSS_2021/NYSDOH_BRFSS_SurveyData_2021.csv', encoding='iso-8859-1', dtype=str)\n",
    "\n",
    "# Create a DuckDB engine using SQLAlchemy\n",
    "engine = create_engine('duckdb://')\n",
    "\n",
    "# Use the to_sql() method to create a new table in the duckdb database\n",
    "df.to_sql ('my_table_SDOH',engine, if_exists='replace', index=False)\n"
   ]
  },
  {
   "cell_type": "code",
   "execution_count": 51,
   "metadata": {},
   "outputs": [
    {
     "ename": "SyntaxError",
     "evalue": "invalid syntax (675648636.py, line 1)",
     "output_type": "error",
     "traceback": [
      "\u001b[0;36m  Cell \u001b[0;32mIn[51], line 1\u001b[0;36m\u001b[0m\n\u001b[0;31m    SELECT * FROM 'my_table'\u001b[0m\n\u001b[0m                  ^\u001b[0m\n\u001b[0;31mSyntaxError\u001b[0m\u001b[0;31m:\u001b[0m invalid syntax\n"
     ]
    }
   ],
   "source": [
    "SELECT * FROM 'my_table'"
   ]
  },
  {
   "cell_type": "code",
   "execution_count": null,
   "metadata": {},
   "outputs": [],
   "source": []
  },
  {
   "cell_type": "code",
   "execution_count": 54,
   "metadata": {},
   "outputs": [
    {
     "name": "stdout",
     "output_type": "stream",
     "text": [
      "['my_table']\n"
     ]
    }
   ],
   "source": [
    "import duckdb\n",
    "\n",
    "# Connect to the DuckDB database\n",
    "con = duckdb.connect(':memory:')\n",
    "\n",
    "# Create a new table\n",
    "con.execute('CREATE TABLE my_table (id INTEGER, name VARCHAR(255))')\n",
    "\n",
    "# List all the tables in the database\n",
    "result = con.execute(\"SELECT name FROM sqlite_master WHERE type='table'\")\n",
    "tables = [row[0] for row in result.fetchall()]\n",
    "print(tables) # Output: ['my_table']\n",
    "\n",
    "\n"
   ]
  },
  {
   "cell_type": "code",
   "execution_count": 60,
   "metadata": {},
   "outputs": [
    {
     "ename": "SyntaxError",
     "evalue": "invalid syntax (163088762.py, line 1)",
     "output_type": "error",
     "traceback": [
      "\u001b[0;36m  Cell \u001b[0;32mIn[60], line 1\u001b[0;36m\u001b[0m\n\u001b[0;31m    SELECT name FROM sqlite_master WHERE type='table' AND name='my_table';\u001b[0m\n\u001b[0m           ^\u001b[0m\n\u001b[0;31mSyntaxError\u001b[0m\u001b[0;31m:\u001b[0m invalid syntax\n"
     ]
    }
   ],
   "source": [
    "import sqlite3\n",
    "\n",
    "# Connect to the database\n",
    "conn = sqlite3.connect('your_database.db')\n",
    "\n",
    "# Define the query\n",
    "query = \"SELECT name FROM sqlite_master WHERE type='table' AND name='your_table_name'\"\n",
    "\n",
    "# Execute the query and fetch the result\n",
    "result = conn.execute(query).fetchall()\n",
    "\n",
    "# Check if the result is empty\n",
    "if len(result) == 0:\n",
    "    print(\"The table does not exist in the database\")\n",
    "else:\n",
    "    print(\"The table exists in the database\")\n",
    "    \n",
    "# Close the connection\n",
    "conn.close()\n",
    "\n",
    "\n"
   ]
  },
  {
   "cell_type": "code",
   "execution_count": 63,
   "metadata": {},
   "outputs": [
    {
     "name": "stdout",
     "output_type": "stream",
     "text": [
      "The path to my database file is: /Users/micheletadiello/Desktop/payless.health-quality-metrics-1/notebooks/my_database.db\n"
     ]
    }
   ],
   "source": [
    "import os\n",
    "\n",
    "# replace 'my_database.db' with the name of your database file\n",
    "db_file = 'my_database.db'\n",
    "\n",
    "# get the current working directory\n",
    "cwd = os.getcwd()\n",
    "\n",
    "# join the database file name with the current working directory\n",
    "db_path = os.path.join(cwd, db_file)\n",
    "\n",
    "print(\"The path to my database file is:\", db_path)\n"
   ]
  },
  {
   "cell_type": "code",
   "execution_count": null,
   "metadata": {},
   "outputs": [],
   "source": []
  },
  {
   "cell_type": "code",
   "execution_count": 64,
   "metadata": {},
   "outputs": [
    {
     "name": "stdout",
     "output_type": "stream",
     "text": [
      "my_database\n"
     ]
    }
   ],
   "source": [
    "import duckdb\n",
    "\n",
    "# connect to the database\n",
    "con = duckdb.connect(database='/Users/micheletadiello/Desktop/payless.health-quality-metrics-1/notebooks/my_database.db')\n",
    "\n",
    "# get the database name\n",
    "database_name = con.execute('SELECT current_database()').fetchone()[0]\n",
    "\n",
    "print(database_name)\n"
   ]
  },
  {
   "cell_type": "code",
   "execution_count": 65,
   "metadata": {},
   "outputs": [
    {
     "name": "stdout",
     "output_type": "stream",
     "text": [
      "The table does not exist in the database\n"
     ]
    }
   ],
   "source": [
    "import sqlite3\n",
    "\n",
    "# Connect to the database\n",
    "conn = sqlite3.connect('my_database')\n",
    "\n",
    "# Define the query\n",
    "query = \"SELECT name FROM sqlite_master WHERE type='table' AND name='my_table'\"\n",
    "\n",
    "# Execute the query and fetch the result\n",
    "result = conn.execute(query).fetchall()\n",
    "\n",
    "# Check if the result is empty\n",
    "if len(result) == 0:\n",
    "    print(\"The table does not exist in the database\")\n",
    "else:\n",
    "    print(\"The table exists in the database\")\n",
    "    \n",
    "# Close the connection\n",
    "conn.close()\n"
   ]
  },
  {
   "cell_type": "code",
   "execution_count": 66,
   "metadata": {},
   "outputs": [
    {
     "name": "stderr",
     "output_type": "stream",
     "text": [
      "/var/folders/1_/lmhbpfjd78x39hf7h6ttny5r0000gn/T/ipykernel_47055/1598971818.py:11: UserWarning: pandas only supports SQLAlchemy connectable (engine/connection) or database string URI or sqlite3 DBAPI2 connection. Other DBAPI2 objects are not tested. Please consider using SQLAlchemy.\n",
      "  df.to_sql('my_table', con, if_exists='replace', index=False)\n"
     ]
    }
   ],
   "source": [
    "import duckdb\n",
    "import pandas as pd\n",
    "\n",
    "# Connect to your DuckDB database\n",
    "con = duckdb.connect(database='mydatabase')\n",
    "\n",
    "# Load the CSV file into a pandas DataFrame\n",
    "df = pd.read_csv('/Users/micheletadiello/Downloads/NYSDOH_BRFSS_2021/NYSDOH_BRFSS_SurveyData_2021.csv', encoding='iso-8859-1', dtype=str)\n",
    "\n",
    "# Insert the DataFrame into a new table in your DuckDB database\n",
    "df.to_sql('my_table', con, if_exists='replace', index=False)\n"
   ]
  },
  {
   "cell_type": "code",
   "execution_count": null,
   "metadata": {},
   "outputs": [],
   "source": []
  },
  {
   "cell_type": "code",
   "execution_count": null,
   "metadata": {},
   "outputs": [],
   "source": []
  },
  {
   "cell_type": "code",
   "execution_count": null,
   "metadata": {},
   "outputs": [],
   "source": []
  },
  {
   "cell_type": "code",
   "execution_count": null,
   "metadata": {},
   "outputs": [],
   "source": []
  },
  {
   "cell_type": "code",
   "execution_count": null,
   "metadata": {},
   "outputs": [],
   "source": []
  },
  {
   "cell_type": "code",
   "execution_count": null,
   "metadata": {},
   "outputs": [],
   "source": []
  },
  {
   "cell_type": "code",
   "execution_count": null,
   "metadata": {},
   "outputs": [],
   "source": []
  },
  {
   "cell_type": "code",
   "execution_count": null,
   "metadata": {},
   "outputs": [],
   "source": []
  },
  {
   "cell_type": "code",
   "execution_count": null,
   "metadata": {},
   "outputs": [],
   "source": []
  },
  {
   "cell_type": "code",
   "execution_count": null,
   "metadata": {},
   "outputs": [],
   "source": []
  },
  {
   "cell_type": "code",
   "execution_count": null,
   "metadata": {},
   "outputs": [],
   "source": []
  },
  {
   "cell_type": "code",
   "execution_count": null,
   "metadata": {},
   "outputs": [],
   "source": []
  },
  {
   "cell_type": "code",
   "execution_count": null,
   "metadata": {},
   "outputs": [],
   "source": []
  },
  {
   "cell_type": "code",
   "execution_count": null,
   "metadata": {},
   "outputs": [],
   "source": []
  },
  {
   "cell_type": "code",
   "execution_count": null,
   "metadata": {},
   "outputs": [],
   "source": []
  },
  {
   "cell_type": "code",
   "execution_count": null,
   "metadata": {},
   "outputs": [],
   "source": []
  },
  {
   "cell_type": "code",
   "execution_count": null,
   "metadata": {},
   "outputs": [],
   "source": []
  },
  {
   "cell_type": "code",
   "execution_count": null,
   "metadata": {},
   "outputs": [],
   "source": []
  },
  {
   "cell_type": "code",
   "execution_count": null,
   "metadata": {},
   "outputs": [],
   "source": []
  },
  {
   "cell_type": "code",
   "execution_count": null,
   "metadata": {},
   "outputs": [],
   "source": []
  },
  {
   "cell_type": "code",
   "execution_count": null,
   "metadata": {},
   "outputs": [],
   "source": []
  },
  {
   "cell_type": "code",
   "execution_count": null,
   "metadata": {},
   "outputs": [],
   "source": []
  },
  {
   "cell_type": "code",
   "execution_count": null,
   "metadata": {},
   "outputs": [],
   "source": []
  },
  {
   "cell_type": "code",
   "execution_count": null,
   "metadata": {},
   "outputs": [],
   "source": []
  },
  {
   "cell_type": "code",
   "execution_count": null,
   "metadata": {},
   "outputs": [],
   "source": []
  },
  {
   "cell_type": "code",
   "execution_count": null,
   "metadata": {},
   "outputs": [],
   "source": []
  },
  {
   "cell_type": "code",
   "execution_count": null,
   "metadata": {},
   "outputs": [],
   "source": []
  },
  {
   "cell_type": "code",
   "execution_count": null,
   "metadata": {},
   "outputs": [],
   "source": []
  },
  {
   "cell_type": "code",
   "execution_count": null,
   "metadata": {},
   "outputs": [],
   "source": []
  },
  {
   "cell_type": "code",
   "execution_count": null,
   "metadata": {},
   "outputs": [],
   "source": []
  },
  {
   "cell_type": "code",
   "execution_count": null,
   "metadata": {},
   "outputs": [],
   "source": []
  },
  {
   "cell_type": "code",
   "execution_count": null,
   "metadata": {},
   "outputs": [],
   "source": []
  },
  {
   "cell_type": "code",
   "execution_count": null,
   "metadata": {},
   "outputs": [],
   "source": []
  },
  {
   "cell_type": "code",
   "execution_count": null,
   "metadata": {},
   "outputs": [],
   "source": []
  },
  {
   "attachments": {},
   "cell_type": "markdown",
   "metadata": {},
   "source": [
    "## Documentation to load csv to duckdb for use in SQL queries\n",
    "https://duckdb.org/docs/data/csv/overview.html"
   ]
  },
  {
   "cell_type": "code",
   "execution_count": 8,
   "metadata": {},
   "outputs": [
    {
     "name": "stdout",
     "output_type": "stream",
     "text": [
      "(duckdb.ParserException) Parser Error: syntax error at or near \"cat\"\n",
      "LINE 2: cat data/csv/issue2471.csv | duckdb -c \"select * from read_csv_auto('/dev/stdin')\"...\n",
      "        ^\n",
      "[SQL: -- read a CSV from stdin, auto-infer options\n",
      "cat data/csv/issue2471.csv | duckdb -c \"select * from read_csv_auto('/dev/stdin')\"]\n",
      "(Background on this error at: https://sqlalche.me/e/20/f405)\n"
     ]
    }
   ],
   "source": [
    "%%sql\n",
    "-- read a CSV from stdin, auto-infer options\n",
    "cat data/csv/issue2471.csv | duckdb -c \"select * from read_csv_auto('/dev/stdin')\""
   ]
  },
  {
   "cell_type": "code",
   "execution_count": 9,
   "metadata": {},
   "outputs": [
    {
     "name": "stdout",
     "output_type": "stream",
     "text": [
      "zsh:1: command not found: duckdb\n",
      "cat: data/csv/issue2471.csv: No such file or directory\n"
     ]
    }
   ],
   "source": [
    "!cat data/csv/issue2471.csv | duckdb -c \"select * from read_csv_auto('/dev/stdin')\""
   ]
  },
  {
   "cell_type": "code",
   "execution_count": null,
   "metadata": {},
   "outputs": [],
   "source": []
  },
  {
   "cell_type": "code",
   "execution_count": null,
   "metadata": {},
   "outputs": [],
   "source": []
  },
  {
   "cell_type": "code",
   "execution_count": null,
   "metadata": {},
   "outputs": [],
   "source": []
  },
  {
   "cell_type": "code",
   "execution_count": null,
   "metadata": {},
   "outputs": [],
   "source": []
  },
  {
   "cell_type": "code",
   "execution_count": null,
   "metadata": {},
   "outputs": [],
   "source": []
  },
  {
   "cell_type": "code",
   "execution_count": null,
   "metadata": {},
   "outputs": [],
   "source": []
  },
  {
   "cell_type": "code",
   "execution_count": null,
   "metadata": {},
   "outputs": [],
   "source": []
  },
  {
   "cell_type": "code",
   "execution_count": null,
   "metadata": {},
   "outputs": [],
   "source": []
  }
 ],
 "metadata": {
  "kernelspec": {
   "display_name": "datathinking.org",
   "language": "python",
   "name": "python3"
  },
  "language_info": {
   "codemirror_mode": {
    "name": "ipython",
    "version": 3
   },
   "file_extension": ".py",
   "mimetype": "text/x-python",
   "name": "python",
   "nbconvert_exporter": "python",
   "pygments_lexer": "ipython3",
   "version": "3.11.3"
  },
  "orig_nbformat": 4,
  "vscode": {
   "interpreter": {
    "hash": "e2428246c2f6fe33a9cad8e147456a9f8ea1b682d0e79ff615e411a7f128bce3"
   }
  }
 },
 "nbformat": 4,
 "nbformat_minor": 2
}
